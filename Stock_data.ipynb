{
 "cells": [
  {
   "cell_type": "code",
   "execution_count": null,
   "metadata": {},
   "outputs": [],
   "source": [
    "import requests\n",
    "import pandas as pd\n",
    "from io import StringIO\n",
    "response = requests.get('http://www.twse.com.tw/exchangeReport/MI_INDEX?response=csv&date=20200120&type=ALLBUT0999&_=1520785530355')"
   ]
  },
  {
   "cell_type": "code",
   "execution_count": null,
   "metadata": {},
   "outputs": [],
   "source": [
    "lines = pd.read_csv(StringIO(response.text))"
   ]
  },
  {
   "cell_type": "code",
   "execution_count": null,
   "metadata": {},
   "outputs": [],
   "source": [
    "lines = response.text.split('\\n')\n",
    "lines[1]"
   ]
  },
  {
   "cell_type": "code",
   "execution_count": null,
   "metadata": {},
   "outputs": [],
   "source": [
    "newlines = []\n",
    "for line in lines:\n",
    "    if len(line.split('\",')) == 17:\n",
    "            newlines.append(line)\n",
    "\n",
    "print(len(lines))\n",
    "print(len(newlines))\n",
    "\n"
   ]
  },
  {
   "cell_type": "code",
   "execution_count": null,
   "metadata": {},
   "outputs": [],
   "source": [
    "print(newlines)"
   ]
  },
  {
   "cell_type": "code",
   "execution_count": null,
   "metadata": {},
   "outputs": [],
   "source": [
    "s = '\\r'.join(newlines)\n",
    "print(len(s))\n",
    "print(s)\n",
    "type(s)"
   ]
  },
  {
   "cell_type": "code",
   "execution_count": null,
   "metadata": {},
   "outputs": [],
   "source": [
    "df = pd.read_csv(StringIO(s)) # 將 s 用StringIO變成檔案，並用 pd.read_csv 來讀取檔案\n",
    "df"
   ]
  },
  {
   "cell_type": "code",
   "execution_count": null,
   "metadata": {},
   "outputs": [],
   "source": [
    "s = s.replace('=', '')\n",
    "df = pd.read_csv(StringIO(s)) \n",
    "df"
   ]
  },
  {
   "cell_type": "code",
   "execution_count": null,
   "metadata": {},
   "outputs": [],
   "source": [
    "print(type(df['證券代號'][0]))\n",
    "print(type(df['證券名稱'][0]))\n",
    "print(type(df['成交筆數'][0]))\n",
    "print(type(df['開盤價'][0]))  # 是str而非float\n",
    "print(type(df['漲跌(+/-)'][0]))  # 是str而非float\n",
    "print(type(df['Unnamed: 16'][0]))  # 是numpy.float64\n",
    "\n",
    "\n",
    "\n",
    "## 還有一些空值、Unnamed:16"
   ]
  },
  {
   "cell_type": "code",
   "execution_count": null,
   "metadata": {},
   "outputs": [],
   "source": [
    "df = df.astype(str)\n",
    "df = df.applymap(lambda s: s.replace(',', '')) \n",
    "# apply: 讓方程作用於DataFrame中的每一個元素\n",
    "# lamba: 輸入左邊、輸出右邊\n",
    "df"
   ]
  },
  {
   "cell_type": "code",
   "execution_count": null,
   "metadata": {},
   "outputs": [],
   "source": [
    "df = df.set_index('證券代號')\n",
    "df"
   ]
  },
  {
   "cell_type": "code",
   "execution_count": null,
   "metadata": {},
   "outputs": [],
   "source": [
    "df = df.apply(lambda s: pd.to_numeric(s, errors='coerce')) #將資料轉回數字，coerce就是回傳NaN\n",
    "df"
   ]
  },
  {
   "cell_type": "code",
   "execution_count": null,
   "metadata": {},
   "outputs": [],
   "source": [
    "df.dropna(axis=1, how='all', inplace=True) # 刪掉空值、缺值的column\n",
    "\"\"\"\n",
    "axis:\n",
    "axis=0: 刪除包含缺值的row\n",
    "axis=1: 刪除包含缺值的column\n",
    "how: 與axis配合使用\n",
    "how=‘any’ :只要有缺值出現，就刪除該行或列\n",
    "how=‘all’: 所有的值都缺，才刪除行或列\n",
    "inplace: 是否在原資料上操作。如果為真，返回None否則返回新的copy，去掉了缺失值\n",
    "\"\"\"\n",
    "df\n",
    "\n"
   ]
  },
  {
   "cell_type": "code",
   "execution_count": null,
   "metadata": {},
   "outputs": [],
   "source": [
    "close_open = df['收盤價'] / df['開盤價']\n",
    "close_open.head()"
   ]
  },
  {
   "cell_type": "code",
   "execution_count": null,
   "metadata": {},
   "outputs": [],
   "source": [
    "df[close_open > 1.07] # 漲幅超過7%的"
   ]
  },
  {
   "cell_type": "code",
   "execution_count": null,
   "metadata": {},
   "outputs": [],
   "source": [
    "df.to_csv('daily_price.csv', encoding='utf_8_sig')\n",
    "\n",
    "# 讀檔\n",
    "# 我們指名 index 為 證券代號\n",
    "df = pd.read_csv('daily_price.csv', index_col=['證券代號'])\n",
    "\n",
    "print('index為證券代號')\n",
    "print('     v')\n",
    "df.head()"
   ]
  },
  {
   "cell_type": "code",
   "execution_count": null,
   "metadata": {},
   "outputs": [],
   "source": [
    "# 將 sql 通道打開\n",
    "import sqlite3\n",
    "conn = sqlite3.connect('test.sqlite3')\n",
    "\n",
    "# 存檔 if_exists='replace' 是說假如sql中已經有 daily_price 這個 dataframe，則取代它\n",
    "df.to_sql('daily_price', conn, if_exists='replace')\n",
    "\n",
    "# 讀檔\n",
    "df = pd.read_sql('select * from daily_price', conn, index_col=['證券代號'])\n",
    "df"
   ]
  },
  {
   "cell_type": "code",
   "execution_count": null,
   "metadata": {},
   "outputs": [],
   "source": []
  }
 ],
 "metadata": {
  "kernelspec": {
   "display_name": "Python 3",
   "language": "python",
   "name": "python3"
  },
  "language_info": {
   "codemirror_mode": {
    "name": "ipython",
    "version": 3
   },
   "file_extension": ".py",
   "mimetype": "text/x-python",
   "name": "python",
   "nbconvert_exporter": "python",
   "pygments_lexer": "ipython3",
   "version": "3.7.4"
  }
 },
 "nbformat": 4,
 "nbformat_minor": 2
}
